{
 "cells": [
  {
   "cell_type": "code",
   "execution_count": 1,
   "metadata": {},
   "outputs": [],
   "source": [
    "\"\"\"\n",
    "a) Compute the principal components (PCs) using first 190 individuals’ neutral expression\n",
    "image. Plot the singular values of the data matrix and justify your choice of\n",
    "principal components.\n",
    "\n",
    "(b) Reconstruct one of 190 individuals’ neutral expression image using different number\n",
    "of PCs. As you vary the number of PCs, plot the mean squared error (MSE) of\n",
    "reconstruction versus the number of principal components to show the accuracy of\n",
    "reconstruction. Comment on your result.\n",
    "\n",
    "(c) Reconstruct one of 190 individuals’ smiling expression image using different number\n",
    "of PCs. Again, plot the MSE of reconstruction versus the number of principal\n",
    "components and comment on your result.\n",
    "\n",
    "(d) Reconstruct one of the other 10 individuals’ neutral expression image using different\n",
    "number of PCs. Again, plot the MSE of reconstruction versus the number of principal\n",
    "components and comment on your result.\n",
    "\n",
    "(e) Use any other non-human image (e.g., car image, resize and crop to the same size),\n",
    "and try to reconstruct it using all the PCs. Comment on your results.\n",
    "\n",
    "(f) Rotate one of 190 individuals’ neutral expression image with different degrees and\n",
    "try to reconstruct it using all PCs. Comment on your results.\n",
    "\"\"\"\n",
    "\n",
    "import numpy as np \n",
    "import scipy.linalg as la\n",
    "import seaborn as sns \n",
    "import matplotlib.pyplot as plt \n",
    "from matplotlib import image\n",
    "import glob \n",
    "import os \n",
    "\n",
    "if 'data' not in os.listdir():\n",
    "    os.chdir('../')\n",
    "    \n",
    "# to view the result \n",
    "#plt.imshow(your_face.reshape(height, width), cmap ='gray') "
   ]
  },
  {
   "cell_type": "code",
   "execution_count": 2,
   "metadata": {},
   "outputs": [],
   "source": [
    "def jpegs_to_matrix(jpegs):\n",
    "    \"\"\"\n",
    "    converts a list of jpegs of the same size into a matrix.\n",
    "    \"\"\"\n",
    "    data = []\n",
    "    for fn in jpegs:\n",
    "        img_mat = image.imread(fn).flatten()\n",
    "        data.append(img_mat)\n",
    "    data = np.mat(data)\n",
    "    return(data)"
   ]
  },
  {
   "cell_type": "code",
   "execution_count": 3,
   "metadata": {},
   "outputs": [],
   "source": [
    "# Loading all the datasets  \n",
    "neutral_fns = 'data/frontalimages_spatiallynormalized_cropped_equalized_part*/*a.jpg'\n",
    "neutral_fns = glob.glob(neutral_fns)\n",
    "neutral_data = jpegs_to_matrix(neutral_fns)\n",
    "neutral_190 = neutral_data[0:190].T\n",
    "neutral_single = neutral_data[190].T\n",
    "\n",
    "smiling_fns = 'data/frontalimages_spatiallynormalized_cropped_equalized_part*/*b.jpg'\n",
    "smiling_fns = glob.glob(smiling_fns)\n",
    "smiling_data = jpegs_to_matrix(smiling_fns)\n",
    "smiling_single = smiling_data[190].T\n",
    "\n",
    "guitar = image.imread('figures/guitar_bw_196_162.jpg').flatten()\n",
    "\n",
    "# Part A: calculate the principle components \n",
    "# - computer the PC's \n",
    "# - plot the singular values of the data matrix \n",
    "\n",
    "# Part B: reconstruct a neutral face using an increasing amount of PC's\n",
    "# - reconstruct\n",
    "# - plot the mean squared error vs PC's\n",
    "\n",
    "# Part C: reconstruct a smiling face using an increasing amount of PC's\n",
    "# - reconstruct\n",
    "# - plot the mean squared error vs PC's\n",
    "\n",
    "# Part D: reconstruct a neutral face (from the 10 unused samples) \n",
    "# using an increasing amount of PC's\n",
    "# - reconstruct\n",
    "# - plot the mean squared error vs PC's\n",
    "\n",
    "# Part E: use any other non-human image \n",
    "\n",
    "# Part F: rotate an individuals neutral face and reconstruct with all PC's"
   ]
  },
  {
   "cell_type": "markdown",
   "metadata": {},
   "source": [
    "## Calculating Eigenfaces"
   ]
  },
  {
   "cell_type": "code",
   "execution_count": 7,
   "metadata": {},
   "outputs": [],
   "source": [
    "# saving the number of columns \n",
    "M = neutral_190.shape[1]"
   ]
  },
  {
   "cell_type": "code",
   "execution_count": 6,
   "metadata": {},
   "outputs": [],
   "source": [
    "# calculating the mean value across the row (psi vector)\n",
    "psi_vec = np.mean(neutral_190, axis=1)"
   ]
  },
  {
   "cell_type": "code",
   "execution_count": 10,
   "metadata": {},
   "outputs": [],
   "source": [
    "# calculating the standardized values (phi matrix)\n",
    "phi_matrix = neutral_190.copy()\n",
    "for j in range(phi_matrix.shape[1]): \n",
    "    phi_matrix[:,j] = phi_matrix[:,j] - psi_vec"
   ]
  },
  {
   "cell_type": "code",
   "execution_count": 11,
   "metadata": {},
   "outputs": [],
   "source": [
    "A = phi_matrix"
   ]
  },
  {
   "cell_type": "code",
   "execution_count": 21,
   "metadata": {},
   "outputs": [],
   "source": [
    "# calculating the covariance matrix C \n",
    "C = A * A.T"
   ]
  },
  {
   "cell_type": "markdown",
   "metadata": {},
   "source": [
    "### Solving the subproblem"
   ]
  },
  {
   "cell_type": "code",
   "execution_count": 12,
   "metadata": {},
   "outputs": [],
   "source": [
    "# calculating A^t * A and its eigenvectors \n",
    "L = A.T * A\n",
    "v_evals, v_evecs = la.eig(L)"
   ]
  },
  {
   "cell_type": "code",
   "execution_count": 89,
   "metadata": {},
   "outputs": [],
   "source": [
    "# calculating the eigen vectors for the C matrix \n",
    "u_evecs = np.zeros(A.shape)\n",
    "for l in range(M):\n",
    "    curr_evec = np.zeros((A.shape[0], 1)) \n",
    "    for k in range(M):          \n",
    "        curr_evec = curr_evec + (v_evecs[l][k] * A[:, k])    \n",
    "    \n",
    "    u_evecs[:, l] = curr_evec.ravel()"
   ]
  },
  {
   "cell_type": "code",
   "execution_count": 90,
   "metadata": {},
   "outputs": [
    {
     "data": {
      "text/plain": [
       "array([ -75.81716463,  -85.81809768, -111.12516309, ..., -242.84446537,\n",
       "       -221.07718715, -120.7202867 ])"
      ]
     },
     "execution_count": 90,
     "metadata": {},
     "output_type": "execute_result"
    }
   ],
   "source": [
    "u_evecs[:, 0]"
   ]
  },
  {
   "cell_type": "code",
   "execution_count": 88,
   "metadata": {},
   "outputs": [
    {
     "data": {
      "text/plain": [
       "array([ -75.81716463,  -85.81809768, -111.12516309, ..., -242.84446537,\n",
       "       -221.07718715, -120.7202867 ])"
      ]
     },
     "execution_count": 88,
     "metadata": {},
     "output_type": "execute_result"
    }
   ],
   "source": [
    "u_evecs[:, 0]"
   ]
  },
  {
   "cell_type": "markdown",
   "metadata": {},
   "source": [
    "## Testing the eigenvectors and eigenvalues for validity "
   ]
  },
  {
   "cell_type": "code",
   "execution_count": 86,
   "metadata": {},
   "outputs": [
    {
     "data": {
      "text/plain": [
       "(31266, 190)"
      ]
     },
     "execution_count": 86,
     "metadata": {},
     "output_type": "execute_result"
    }
   ],
   "source": [
    "u_evecs.shape"
   ]
  },
  {
   "cell_type": "code",
   "execution_count": 65,
   "metadata": {},
   "outputs": [],
   "source": [
    "c = C[0, :]\n",
    "u = u_evecs[:, 0]"
   ]
  },
  {
   "cell_type": "code",
   "execution_count": 66,
   "metadata": {},
   "outputs": [],
   "source": [
    "u_eval = np.dot(c, u) / u[0]"
   ]
  },
  {
   "cell_type": "code",
   "execution_count": 67,
   "metadata": {},
   "outputs": [
    {
     "data": {
      "text/plain": [
       "matrix([[3527062.28455751]])"
      ]
     },
     "execution_count": 67,
     "metadata": {},
     "output_type": "execute_result"
    }
   ],
   "source": [
    "u_eval"
   ]
  },
  {
   "cell_type": "code",
   "execution_count": 68,
   "metadata": {},
   "outputs": [],
   "source": [
    "lhs = C * u.reshape((-1, 1))"
   ]
  },
  {
   "cell_type": "code",
   "execution_count": 69,
   "metadata": {},
   "outputs": [
    {
     "data": {
      "text/plain": [
       "matrix([[-2.67411862e+08],\n",
       "        [-2.66864245e+08],\n",
       "        [-2.65871069e+08],\n",
       "        ...,\n",
       "        [-2.67627266e+08],\n",
       "        [-2.64943329e+08],\n",
       "        [-2.69790230e+08]])"
      ]
     },
     "execution_count": 69,
     "metadata": {},
     "output_type": "execute_result"
    }
   ],
   "source": [
    "lhs"
   ]
  },
  {
   "cell_type": "code",
   "execution_count": 70,
   "metadata": {},
   "outputs": [],
   "source": [
    "rhs = u.reshape((-1, 1)) * u_eval"
   ]
  },
  {
   "cell_type": "code",
   "execution_count": 71,
   "metadata": {},
   "outputs": [
    {
     "data": {
      "text/plain": [
       "matrix([[-2.67411862e+08],\n",
       "        [-3.02685776e+08],\n",
       "        [-3.91945372e+08],\n",
       "        ...,\n",
       "        [-8.56527555e+08],\n",
       "        [-7.79753009e+08],\n",
       "        [-4.25787970e+08]])"
      ]
     },
     "execution_count": 71,
     "metadata": {},
     "output_type": "execute_result"
    }
   ],
   "source": [
    "rhs"
   ]
  },
  {
   "cell_type": "code",
   "execution_count": null,
   "metadata": {},
   "outputs": [],
   "source": []
  },
  {
   "cell_type": "code",
   "execution_count": null,
   "metadata": {},
   "outputs": [],
   "source": []
  },
  {
   "cell_type": "code",
   "execution_count": null,
   "metadata": {},
   "outputs": [],
   "source": []
  },
  {
   "cell_type": "code",
   "execution_count": null,
   "metadata": {},
   "outputs": [],
   "source": []
  }
 ],
 "metadata": {
  "kernelspec": {
   "display_name": "Python 3",
   "language": "python",
   "name": "python3"
  },
  "language_info": {
   "codemirror_mode": {
    "name": "ipython",
    "version": 3
   },
   "file_extension": ".py",
   "mimetype": "text/x-python",
   "name": "python",
   "nbconvert_exporter": "python",
   "pygments_lexer": "ipython3",
   "version": "3.8.5"
  }
 },
 "nbformat": 4,
 "nbformat_minor": 4
}
