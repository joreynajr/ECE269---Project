{
 "cells": [
  {
   "cell_type": "code",
   "execution_count": 15,
   "metadata": {},
   "outputs": [],
   "source": [
    "\"\"\"\n",
    "a) Compute the principal components (PCs) using first 190 individuals’ neutral expression\n",
    "image. Plot the singular values of the data matrix and justify your choice of\n",
    "principal components.\n",
    "\n",
    "(b) Reconstruct one of 190 individuals’ neutral expression image using different number\n",
    "of PCs. As you vary the number of PCs, plot the mean squared error (MSE) of\n",
    "reconstruction versus the number of principal components to show the accuracy of\n",
    "reconstruction. Comment on your result.\n",
    "\n",
    "(c) Reconstruct one of 190 individuals’ smiling expression image using different number\n",
    "of PCs. Again, plot the MSE of reconstruction versus the number of principal\n",
    "components and comment on your result.\n",
    "\n",
    "(d) Reconstruct one of the other 10 individuals’ neutral expression image using different\n",
    "number of PCs. Again, plot the MSE of reconstruction versus the number of principal\n",
    "components and comment on your result.\n",
    "\n",
    "(e) Use any other non-human image (e.g., car image, resize and crop to the same size),\n",
    "and try to reconstruct it using all the PCs. Comment on your results.\n",
    "\n",
    "(f) Rotate one of 190 individuals’ neutral expression image with different degrees and\n",
    "try to reconstruct it using all PCs. Comment on your results.\n",
    "\"\"\"\n",
    "\n",
    "import numpy as np \n",
    "import scipy.linalg as la\n",
    "import seaborn as sns \n",
    "import matplotlib.pyplot as plt \n",
    "from matplotlib import image\n",
    "import glob \n",
    "import os \n",
    "\n",
    "if 'data' not in os.listdir():\n",
    "    os.chdir('../')\n",
    "    \n",
    "# to view the result \n",
    "#plt.imshow(your_face.reshape(height, width), cmap ='gray') "
   ]
  },
  {
   "cell_type": "code",
   "execution_count": 16,
   "metadata": {},
   "outputs": [],
   "source": [
    "def jpegs_to_matrix(jpegs):\n",
    "    \"\"\"\n",
    "    converts a list of jpegs of the same size into a matrix.\n",
    "    \"\"\"\n",
    "    data = []\n",
    "    for fn in jpegs:\n",
    "        img_mat = image.imread(fn)\n",
    "        img_mat = img_mat.flatten()\n",
    "        data.append(img_mat)\n",
    "    data = np.mat(data)\n",
    "    return(data)"
   ]
  },
  {
   "cell_type": "code",
   "execution_count": 17,
   "metadata": {},
   "outputs": [],
   "source": [
    "# Loading all the datasets  \n",
    "neutral_fns = 'data/frontalimages_spatiallynormalized_cropped_equalized_part*/*a.jpg'\n",
    "neutral_fns = glob.glob(neutral_fns)\n",
    "neutral_data = jpegs_to_matrix(neutral_fns)\n",
    "neutral_data = neutral_data / 255\n",
    "neutral_190 = neutral_data[0:190].T\n",
    "neutral_single = neutral_data[190].T\n",
    "\n",
    "smiling_fns = 'data/frontalimages_spatiallynormalized_cropped_equalized_part*/*b.jpg'\n",
    "smiling_fns = glob.glob(smiling_fns)\n",
    "smiling_data = jpegs_to_matrix(smiling_fns)\n",
    "smiling_data = smiling_data / 255\n",
    "smiling_single = smiling_data[190].T\n",
    "\n",
    "guitar = image.imread('figures/guitar_bw_196_162.jpg').flatten()\n",
    "\n",
    "# Part A: calculate the principle components \n",
    "# - computer the PC's \n",
    "# - plot the singular values of the data matrix \n",
    "\n",
    "# Part B: reconstruct a neutral face using an increasing amount of PC's\n",
    "# - reconstruct\n",
    "# - plot the mean squared error vs PC's\n",
    "\n",
    "# Part C: reconstruct a smiling face using an increasing amount of PC's\n",
    "# - reconstruct\n",
    "# - plot the mean squared error vs PC's\n",
    "\n",
    "# Part D: reconstruct a neutral face (from the 10 unused samples) \n",
    "# using an increasing amount of PC's\n",
    "# - reconstruct\n",
    "# - plot the mean squared error vs PC's\n",
    "\n",
    "# Part E: use any other non-human image \n",
    "\n",
    "# Part F: rotate an individuals neutral face and reconstruct with all PC's"
   ]
  },
  {
   "cell_type": "markdown",
   "metadata": {},
   "source": [
    "## Calculating Eigenfaces"
   ]
  },
  {
   "cell_type": "code",
   "execution_count": 18,
   "metadata": {},
   "outputs": [],
   "source": [
    "# saving the number of columns \n",
    "M = neutral_190.shape[1]"
   ]
  },
  {
   "cell_type": "code",
   "execution_count": 19,
   "metadata": {},
   "outputs": [],
   "source": [
    "# calculating the mean value across the row (psi vector)\n",
    "psi_vec = np.mean(neutral_190, axis=1)"
   ]
  },
  {
   "cell_type": "code",
   "execution_count": 20,
   "metadata": {},
   "outputs": [],
   "source": [
    "# calculating the standardized values (phi matrix)\n",
    "phi_matrix = neutral_190.copy()\n",
    "for j in range(phi_matrix.shape[1]): \n",
    "    phi_matrix[:,j] = phi_matrix[:,j] - psi_vec"
   ]
  },
  {
   "cell_type": "code",
   "execution_count": 21,
   "metadata": {},
   "outputs": [],
   "source": [
    "A = phi_matrix"
   ]
  },
  {
   "cell_type": "code",
   "execution_count": 22,
   "metadata": {},
   "outputs": [],
   "source": [
    "# calculating the covariance matrix C \n",
    "C = A * A.T"
   ]
  },
  {
   "cell_type": "markdown",
   "metadata": {},
   "source": [
    "### Solving the subproblem"
   ]
  },
  {
   "cell_type": "code",
   "execution_count": 23,
   "metadata": {},
   "outputs": [],
   "source": [
    "# calculating A^t * A and its eigenvectors \n",
    "L = A.T * A\n",
    "v_evals, v_evecs = la.eig(L)"
   ]
  },
  {
   "cell_type": "code",
   "execution_count": 24,
   "metadata": {},
   "outputs": [],
   "source": [
    "# calculating the eigen vectors for the C matrix \n",
    "u_evecs = np.zeros(A.shape)\n",
    "for l in range(M):\n",
    "    curr_evec = np.zeros((A.shape[0], 1)) \n",
    "    for k in range(M):          \n",
    "        curr_evec = curr_evec + (v_evecs[l][k] * A[:, k])    \n",
    "    \n",
    "    u_evecs[:, l] = curr_evec.ravel()"
   ]
  },
  {
   "cell_type": "code",
   "execution_count": 25,
   "metadata": {},
   "outputs": [
    {
     "data": {
      "text/plain": [
       "array([ 0.31220685,  0.2938306 ,  0.23725039, ..., -0.08982312,\n",
       "       -0.05566334, -0.02101626])"
      ]
     },
     "execution_count": 25,
     "metadata": {},
     "output_type": "execute_result"
    }
   ],
   "source": [
    "u_evecs[:, 0]"
   ]
  },
  {
   "cell_type": "markdown",
   "metadata": {},
   "source": [
    "## Testing the eigenvectors and eigenvalues for validity "
   ]
  },
  {
   "cell_type": "code",
   "execution_count": 27,
   "metadata": {},
   "outputs": [],
   "source": [
    "u_eval = np.dot(C[0, :], u_evecs[:, 0]) / u_evecs[0, 0]\n",
    "u_eval = u_eval[0, 0]"
   ]
  },
  {
   "cell_type": "code",
   "execution_count": 28,
   "metadata": {},
   "outputs": [],
   "source": [
    "lhs = C * u_evecs[:, 0].reshape((-1, 1))"
   ]
  },
  {
   "cell_type": "code",
   "execution_count": 29,
   "metadata": {},
   "outputs": [
    {
     "data": {
      "text/plain": [
       "matrix([[  615.30806598],\n",
       "        [  853.14295465],\n",
       "        [  618.665778  ],\n",
       "        ...,\n",
       "        [-2997.45826724],\n",
       "        [-3074.58250774],\n",
       "        [-3231.31782147]])"
      ]
     },
     "execution_count": 29,
     "metadata": {},
     "output_type": "execute_result"
    }
   ],
   "source": [
    "lhs"
   ]
  },
  {
   "cell_type": "code",
   "execution_count": 31,
   "metadata": {},
   "outputs": [],
   "source": [
    "rhs = u_evecs[:, 0].reshape((-1, 1)) * u_eval"
   ]
  },
  {
   "cell_type": "code",
   "execution_count": 32,
   "metadata": {},
   "outputs": [
    {
     "data": {
      "text/plain": [
       "array([[ 615.30806598],\n",
       "       [ 579.09151022],\n",
       "       [ 467.58127345],\n",
       "       ...,\n",
       "       [-177.02650466],\n",
       "       [-109.7032375 ],\n",
       "       [ -41.41956442]])"
      ]
     },
     "execution_count": 32,
     "metadata": {},
     "output_type": "execute_result"
    }
   ],
   "source": [
    "rhs"
   ]
  },
  {
   "cell_type": "markdown",
   "metadata": {},
   "source": [
    "## Testing version 2 "
   ]
  },
  {
   "cell_type": "markdown",
   "metadata": {},
   "source": [
    "Try computing Cu by first computing y = A^Tu and then Ay. Is this different? It is possible that due to numerical precision these may not match. But I do not think these would differ."
   ]
  },
  {
   "cell_type": "code",
   "execution_count": 35,
   "metadata": {},
   "outputs": [],
   "source": [
    "y = A.T * u_evecs[:, 0].reshape((-1, 1))"
   ]
  },
  {
   "cell_type": "code",
   "execution_count": 36,
   "metadata": {},
   "outputs": [],
   "source": [
    "Cu = A * y "
   ]
  },
  {
   "cell_type": "code",
   "execution_count": 37,
   "metadata": {},
   "outputs": [
    {
     "data": {
      "text/plain": [
       "matrix([[  615.30806598],\n",
       "        [  853.14295465],\n",
       "        [  618.665778  ],\n",
       "        ...,\n",
       "        [-2997.45826724],\n",
       "        [-3074.58250774],\n",
       "        [-3231.31782147]])"
      ]
     },
     "execution_count": 37,
     "metadata": {},
     "output_type": "execute_result"
    }
   ],
   "source": [
    "Cu"
   ]
  },
  {
   "cell_type": "markdown",
   "metadata": {},
   "source": [
    "$u = \\frac{Av}{||Av||_2}$"
   ]
  },
  {
   "cell_type": "markdown",
   "metadata": {},
   "source": [
    "## New calculation of evecs "
   ]
  },
  {
   "cell_type": "code",
   "execution_count": 38,
   "metadata": {},
   "outputs": [],
   "source": [
    "# calculating the eigen vectors for the C matrix \n",
    "u_evecs = np.zeros(A.shape)\n",
    "for l in range(M):\n",
    "    Av = A * v_evecs[:, l].reshape((-1, 1))\n",
    "    norm_Av = np.linalg.norm(Av, ord=2)  \n",
    "    \n",
    "    u = (Av / norm_Av)\n",
    "    u_evecs[:, l] = u.ravel()"
   ]
  },
  {
   "cell_type": "code",
   "execution_count": 39,
   "metadata": {},
   "outputs": [],
   "source": [
    "lhs = C * u_evecs[:, 0].reshape((-1, 1))"
   ]
  },
  {
   "cell_type": "code",
   "execution_count": 40,
   "metadata": {},
   "outputs": [
    {
     "data": {
      "text/plain": [
       "matrix([[-60.47895736],\n",
       "        [-76.65498861],\n",
       "        [-70.29810819],\n",
       "        ...,\n",
       "        [124.54313128],\n",
       "        [132.76723185],\n",
       "        [141.57674124]])"
      ]
     },
     "execution_count": 40,
     "metadata": {},
     "output_type": "execute_result"
    }
   ],
   "source": [
    "lhs"
   ]
  },
  {
   "cell_type": "code",
   "execution_count": 41,
   "metadata": {},
   "outputs": [],
   "source": [
    "lambdah = np.dot(C[0,:], u_evecs[:, 0]) / u_evecs[0,0]\n",
    "lambdah = lambdah[0,0]"
   ]
  },
  {
   "cell_type": "code",
   "execution_count": 42,
   "metadata": {},
   "outputs": [],
   "source": [
    "rhs = lambdah * u_evecs[:, 0]"
   ]
  },
  {
   "cell_type": "code",
   "execution_count": 43,
   "metadata": {},
   "outputs": [
    {
     "data": {
      "text/plain": [
       "array([-60.47895736, -76.65498861, -70.29810819, ..., 124.54313128,\n",
       "       132.76723185, 141.57674124])"
      ]
     },
     "execution_count": 43,
     "metadata": {},
     "output_type": "execute_result"
    }
   ],
   "source": [
    "rhs"
   ]
  },
  {
   "cell_type": "markdown",
   "metadata": {},
   "source": [
    "## Facial reconstruction "
   ]
  },
  {
   "cell_type": "code",
   "execution_count": 44,
   "metadata": {},
   "outputs": [],
   "source": [
    "weights = np.zeros(M)\n",
    "for i in range(M):\n",
    "    weights[i] = np.dot(u_evecs[:, i], A[:, 0])"
   ]
  },
  {
   "cell_type": "code",
   "execution_count": 45,
   "metadata": {},
   "outputs": [],
   "source": [
    "reconstruction = u_evecs * weights.reshape((1, -1))\n",
    "reconstruction = np.sum(reconstruction, axis=1)\n",
    "reconstruction = psi_vec + reconstruction.reshape((-1, 1))\n",
    "reconstruction = reconstruction * 255"
   ]
  },
  {
   "cell_type": "code",
   "execution_count": 49,
   "metadata": {},
   "outputs": [
    {
     "data": {
      "text/plain": [
       "<matplotlib.image.AxesImage at 0x1fcd0e40cd0>"
      ]
     },
     "execution_count": 49,
     "metadata": {},
     "output_type": "execute_result"
    },
    {
     "data": {
      "image/png": "[encoded data removed]",
      "text/plain": [
       "<Figure size 432x288 with 1 Axes>"
      ]
     },
     "metadata": {
      "needs_background": "light"
     },
     "output_type": "display_data"
    }
   ],
   "source": [
    "plt.imshow(reconstruction.reshape(193, 162), cmap ='gray') "
   ]
  },
  {
   "cell_type": "code",
   "execution_count": 50,
   "metadata": {},
   "outputs": [
    {
     "data": {
      "text/plain": [
       "<matplotlib.image.AxesImage at 0x1fcd0fc9100>"
      ]
     },
     "execution_count": 50,
     "metadata": {},
     "output_type": "execute_result"
    },
    {
     "data": {
      "image/png": "[encoded data removed]",
      "text/plain": [
       "<Figure size 432x288 with 1 Axes>"
      ]
     },
     "metadata": {
      "needs_background": "light"
     },
     "output_type": "display_data"
    }
   ],
   "source": [
    "plt.imshow(neutral_190[:, 0].reshape(193, 162), cmap ='gray') "
   ]
  },
  {
   "cell_type": "code",
   "execution_count": null,
   "metadata": {},
   "outputs": [],
   "source": []
  },
  {
   "cell_type": "code",
   "execution_count": null,
   "metadata": {},
   "outputs": [],
   "source": []
  },
  {
   "cell_type": "code",
   "execution_count": null,
   "metadata": {},
   "outputs": [],
   "source": []
  },
  {
   "cell_type": "code",
   "execution_count": null,
   "metadata": {},
   "outputs": [],
   "source": []
  },
  {
   "cell_type": "code",
   "execution_count": null,
   "metadata": {},
   "outputs": [],
   "source": []
  }
 ],
 "metadata": {
  "kernelspec": {
   "display_name": "Python 3",
   "language": "python",
   "name": "python3"
  },
  "language_info": {
   "codemirror_mode": {
    "name": "ipython",
    "version": 3
   },
   "file_extension": ".py",
   "mimetype": "text/x-python",
   "name": "python",
   "nbconvert_exporter": "python",
   "pygments_lexer": "ipython3",
   "version": "3.8.5"
  }
 },
 "nbformat": 4,
 "nbformat_minor": 4
}
