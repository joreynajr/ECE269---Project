{
 "cells": [
  {
   "cell_type": "code",
   "execution_count": 1,
   "metadata": {},
   "outputs": [],
   "source": [
    "\"\"\"\n",
    "a) Compute the principal components (PCs) using first 190 individuals’ neutral expression\n",
    "image. Plot the singular values of the data matrix and justify your choice of\n",
    "principal components.\n",
    "\n",
    "(b) Reconstruct one of 190 individuals’ neutral expression image using different number\n",
    "of PCs. As you vary the number of PCs, plot the mean squared error (MSE) of\n",
    "reconstruction versus the number of principal components to show the accuracy of\n",
    "reconstruction. Comment on your result.\n",
    "\n",
    "(c) Reconstruct one of 190 individuals’ smiling expression image using different number\n",
    "of PCs. Again, plot the MSE of reconstruction versus the number of principal\n",
    "components and comment on your result.\n",
    "\n",
    "(d) Reconstruct one of the other 10 individuals’ neutral expression image using different\n",
    "number of PCs. Again, plot the MSE of reconstruction versus the number of principal\n",
    "components and comment on your result.\n",
    "\n",
    "(e) Use any other non-human image (e.g., car image, resize and crop to the same size),\n",
    "and try to reconstruct it using all the PCs. Comment on your results.\n",
    "\n",
    "(f) Rotate one of 190 individuals’ neutral expression image with different degrees and\n",
    "try to reconstruct it using all PCs. Comment on your results.\n",
    "\"\"\"\n",
    "\n",
    "import numpy as np \n",
    "import scipy.linalg as la\n",
    "import seaborn as sns \n",
    "import matplotlib.pyplot as plt \n",
    "from matplotlib import image\n",
    "import glob \n",
    "import os \n",
    "\n",
    "if 'data' not in os.listdir():\n",
    "    os.chdir('../')\n",
    "    \n",
    "# to view the result \n",
    "#plt.imshow(your_face.reshape(height, width), cmap ='gray') "
   ]
  },
  {
   "cell_type": "code",
   "execution_count": 2,
   "metadata": {},
   "outputs": [],
   "source": [
    "def jpegs_to_matrix(jpegs):\n",
    "    \"\"\"\n",
    "    converts a list of jpegs of the same size into a matrix.\n",
    "    \"\"\"\n",
    "    data = []\n",
    "    for fn in jpegs:\n",
    "        img_mat = image.imread(fn).flatten()\n",
    "        data.append(img_mat)\n",
    "    data = np.mat(data)\n",
    "    return(data)"
   ]
  },
  {
   "cell_type": "code",
   "execution_count": 3,
   "metadata": {},
   "outputs": [],
   "source": [
    "# Loading all the datasets  \n",
    "neutral_fns = 'data/frontalimages_spatiallynormalized_cropped_equalized_part*/*a.jpg'\n",
    "neutral_fns = glob.glob(neutral_fns)\n",
    "neutral_data = jpegs_to_matrix(neutral_fns)\n",
    "neutral_190 = neutral_data[0:190].T\n",
    "neutral_single = neutral_data[190].T\n",
    "\n",
    "smiling_fns = 'data/frontalimages_spatiallynormalized_cropped_equalized_part*/*b.jpg'\n",
    "smiling_fns = glob.glob(smiling_fns)\n",
    "smiling_data = jpegs_to_matrix(smiling_fns)\n",
    "smiling_single = smiling_data[190].T\n",
    "\n",
    "guitar = image.imread('figures/guitar_bw_196_162.jpg').flatten()\n",
    "\n",
    "# Part A: calculate the principle components \n",
    "# - computer the PC's \n",
    "# - plot the singular values of the data matrix \n",
    "\n",
    "# Part B: reconstruct a neutral face using an increasing amount of PC's\n",
    "# - reconstruct\n",
    "# - plot the mean squared error vs PC's\n",
    "\n",
    "# Part C: reconstruct a smiling face using an increasing amount of PC's\n",
    "# - reconstruct\n",
    "# - plot the mean squared error vs PC's\n",
    "\n",
    "# Part D: reconstruct a neutral face (from the 10 unused samples) \n",
    "# using an increasing amount of PC's\n",
    "# - reconstruct\n",
    "# - plot the mean squared error vs PC's\n",
    "\n",
    "# Part E: use any other non-human image \n",
    "\n",
    "# Part F: rotate an individuals neutral face and reconstruct with all PC's"
   ]
  },
  {
   "cell_type": "code",
   "execution_count": 4,
   "metadata": {},
   "outputs": [],
   "source": [
    "A = np.matrix([[1,2], [2,1]])"
   ]
  },
  {
   "cell_type": "code",
   "execution_count": 5,
   "metadata": {},
   "outputs": [],
   "source": [
    "eigenvalues, eigenvectors = la.eig(A)"
   ]
  },
  {
   "cell_type": "markdown",
   "metadata": {},
   "source": [
    "## Calculating Eigenfaces"
   ]
  },
  {
   "cell_type": "code",
   "execution_count": 6,
   "metadata": {},
   "outputs": [],
   "source": [
    "# saving the number of columns \n",
    "M = neutral_190.shape[1]\n",
    "\n",
    "# calculating the mean value across the row (psi vector)\n",
    "psi_vec = np.mean(neutral_190, axis=1)\n",
    "\n",
    "# calculating the standardized values (phi matrix)\n",
    "phi_matrix = neutral_190.copy()\n",
    "for j in range(phi_matrix.shape[1]): \n",
    "    phi_matrix[:,j] = phi_matrix[:,j] - psi_vec"
   ]
  },
  {
   "cell_type": "code",
   "execution_count": 25,
   "metadata": {},
   "outputs": [],
   "source": [
    "# # calcuating the covariance matrix \n",
    "cov_matrix = np.zeros(phi_matrix.shape)\n",
    "cov_matrix = phi_matrix * phi_matrix.T"
   ]
  },
  {
   "cell_type": "markdown",
   "metadata": {},
   "source": [
    "### Solving the subproblem"
   ]
  },
  {
   "cell_type": "code",
   "execution_count": 8,
   "metadata": {},
   "outputs": [],
   "source": [
    "# calculating A^t * A and its eigenvectors \n",
    "L = phi_matrix.T * phi_matrix\n",
    "L_evals, L_evecs = la.eig(L)"
   ]
  },
  {
   "cell_type": "code",
   "execution_count": 20,
   "metadata": {},
   "outputs": [],
   "source": [
    "# calculating the eigen vectors for the A matrix \n",
    "covar_evecs = np.zeros(phi_matrix.shape)\n",
    "for l in range(M):    \n",
    "    # print(l)\n",
    "    curr_evec = np.zeros((phi_matrix.shape[0],1)) \n",
    "    for k in range(M):  \n",
    "        # print('\\t', k) \n",
    "        curr_evec = curr_evec + (L_evecs[l][k] * phi_matrix[:, k])    \n",
    "    covar_evecs[:, l] = curr_evec.ravel()"
   ]
  },
  {
   "cell_type": "code",
   "execution_count": 24,
   "metadata": {},
   "outputs": [
    {
     "data": {
      "text/plain": [
       "array([ -75.81716463,  -85.81809768, -111.12516309, ..., -242.84446537,\n",
       "       -221.07718715, -120.7202867 ])"
      ]
     },
     "execution_count": 24,
     "metadata": {},
     "output_type": "execute_result"
    }
   ],
   "source": [
    "covar_evecs[:, 0] "
   ]
  },
  {
   "cell_type": "code",
   "execution_count": 35,
   "metadata": {},
   "outputs": [
    {
     "data": {
      "text/plain": [
       "matrix([[-2.67411862e+08],\n",
       "        [-2.66864245e+08],\n",
       "        [-2.65871069e+08],\n",
       "        ...,\n",
       "        [-2.67627266e+08],\n",
       "        [-2.64943329e+08],\n",
       "        [-2.69790230e+08]])"
      ]
     },
     "execution_count": 35,
     "metadata": {},
     "output_type": "execute_result"
    }
   ],
   "source": [
    "cov_matrix * covar_evecs[:, 0].reshape((-1, 1))"
   ]
  },
  {
   "cell_type": "code",
   "execution_count": 41,
   "metadata": {},
   "outputs": [],
   "source": [
    "eigenvalue = -2.67411862e+08 / -75.81716463"
   ]
  },
  {
   "cell_type": "code",
   "execution_count": 43,
   "metadata": {},
   "outputs": [
    {
     "data": {
      "text/plain": [
       "array([-2.67411862e+08, -3.02685776e+08, -3.91945372e+08, ...,\n",
       "       -8.56527555e+08, -7.79753009e+08, -4.25787970e+08])"
      ]
     },
     "execution_count": 43,
     "metadata": {},
     "output_type": "execute_result"
    }
   ],
   "source": [
    "covar_evecs[:, 0] * eigenvalue "
   ]
  },
  {
   "cell_type": "code",
   "execution_count": null,
   "metadata": {},
   "outputs": [],
   "source": []
  },
  {
   "cell_type": "code",
   "execution_count": null,
   "metadata": {},
   "outputs": [],
   "source": []
  },
  {
   "cell_type": "code",
   "execution_count": null,
   "metadata": {},
   "outputs": [],
   "source": []
  },
  {
   "cell_type": "code",
   "execution_count": null,
   "metadata": {},
   "outputs": [],
   "source": []
  },
  {
   "cell_type": "code",
   "execution_count": null,
   "metadata": {},
   "outputs": [],
   "source": []
  },
  {
   "cell_type": "code",
   "execution_count": 17,
   "metadata": {},
   "outputs": [],
   "source": [
    "res = la.svd(A_evecs)"
   ]
  },
  {
   "cell_type": "code",
   "execution_count": 18,
   "metadata": {},
   "outputs": [
    {
     "data": {
      "text/plain": [
       "(array([[-4.54050918e-03, -8.91914352e-04, -1.40817054e-03, ...,\n",
       "         -1.12324967e-02, -1.03176003e-02, -5.57471309e-03],\n",
       "        [-4.41723384e-03,  1.37607562e-03, -1.62391019e-03, ...,\n",
       "          4.52698291e-04,  1.98569394e-03, -5.32077365e-03],\n",
       "        [-4.51788476e-03,  6.53180866e-04, -2.45600746e-03, ...,\n",
       "          2.66160263e-03,  3.19763941e-04,  2.41033924e-03],\n",
       "        ...,\n",
       "        [-6.68950898e-03, -5.46720969e-03, -2.29355777e-04, ...,\n",
       "          9.95139402e-01, -3.22005131e-03, -3.00237919e-03],\n",
       "        [-6.69116341e-03, -4.51714853e-03, -1.25242739e-03, ...,\n",
       "         -3.26502572e-03,  9.95216242e-01, -3.63056777e-03],\n",
       "        [-6.75290498e-03, -4.28383834e-03, -9.93041643e-04, ...,\n",
       "         -3.00355209e-03, -3.61061224e-03,  9.95334952e-01]]),\n",
       " array([305080.55984701,  66706.43428814,  47745.79505374,  44451.92961037,\n",
       "         42806.81873704,  40418.33237121,  38269.77804058,  36813.01195403,\n",
       "         35656.36995572,  34473.49624259,  31490.04366477,  28986.43212257,\n",
       "         28711.6266766 ,  27789.04454454,  27139.68380951,  26017.30015098,\n",
       "         25323.11674308,  25087.35662884,  24468.17867593,  23801.00264032,\n",
       "         23487.19286804,  22794.19363623,  22465.29866241,  22127.91270253,\n",
       "         21887.10528484,  21599.99573003,  21177.88458322,  21100.91909721,\n",
       "         20561.6858739 ,  20446.92540113,  20011.33234274,  19874.70067863,\n",
       "         19569.96725975,  19344.49718665,  19055.91410414,  19007.97297462,\n",
       "         18817.59501486,  18636.32915051,  18538.31089267,  18412.8965488 ,\n",
       "         18132.33032808,  18071.02652138,  17964.97394437,  17662.55506577,\n",
       "         17591.69309807,  17510.62345679,  17253.95019071,  17165.24760822,\n",
       "         17062.1102091 ,  16866.00748604,  16854.94561554,  16671.330126  ,\n",
       "         16596.81659297,  16484.80493631,  16383.66752051,  16232.37818513,\n",
       "         16169.61090553,  16098.83820641,  15991.97408769,  15946.81720636,\n",
       "         15876.48579493,  15814.97868342,  15734.12901895,  15624.69441488,\n",
       "         15513.91041287,  15397.47134445,  15344.66138956,  15223.72730079,\n",
       "         15178.06986192,  15067.74120251,  15020.383054  ,  14937.44790918,\n",
       "         14931.97592754,  14812.45145174,  14726.80367221,  14687.843481  ,\n",
       "         14646.38423141,  14477.10572127,  14408.30872438,  14391.41900366,\n",
       "         14310.96025931,  14286.01595021,  14250.4892883 ,  14085.74796643,\n",
       "         14061.01847999,  14047.34401087,  14024.36788462,  13896.34170778,\n",
       "         13890.59414215,  13826.84119307,  13773.05023378,  13708.55157776,\n",
       "         13624.88627454,  13532.68487674,  13511.80159913,  13453.05804261,\n",
       "         13406.32040956,  13361.63203031,  13303.19253115,  13233.07524119,\n",
       "         13197.81348162,  13164.16609696,  13150.87655474,  13087.6188266 ,\n",
       "         13022.8248062 ,  12988.29086704,  12971.09180161,  12932.97216975,\n",
       "         12853.04979482,  12833.77967962,  12816.63133344,  12762.41476134,\n",
       "         12663.32379991,  12596.80247166,  12564.60995786,  12543.02989572,\n",
       "         12521.06553555,  12503.99971164,  12450.04860596,  12421.12621065,\n",
       "         12329.51623248,  12288.25304422,  12186.38839009,  12151.07939028,\n",
       "         12120.21947451,  12099.67300215,  12059.42090576,  12031.6764951 ,\n",
       "         12017.53660966,  12005.33423716,  11936.9882549 ,  11906.51445077,\n",
       "         11868.87149985,  11853.02074136,  11775.44728133,  11750.76251224,\n",
       "         11718.20629543,  11681.23087574,  11605.8359208 ,  11587.05250544,\n",
       "         11557.6211203 ,  11511.63804393,  11470.65206508,  11438.48430487,\n",
       "         11396.71143062,  11376.90295573,  11350.85539622,  11334.37104059,\n",
       "         11246.12283521,  11217.50362964,  11200.43077182,  11143.60428456,\n",
       "         11101.92108386,  11088.92996458,  11051.66595585,  11014.9291648 ,\n",
       "         10972.15073467,  10949.00471279,  10911.36312998,  10896.06988443,\n",
       "         10887.61835027,  10834.15026455,  10770.62769607,  10752.04544867,\n",
       "         10696.20517986,  10630.02001869,  10622.97015896,  10591.52797423,\n",
       "         10559.5197697 ,  10511.03301703,  10444.90852936,  10400.88939537,\n",
       "         10378.78555179,  10361.15204355,  10316.92026203,  10279.43200342,\n",
       "         10260.19502914,  10233.37243421,  10145.02897367,  10107.80446616,\n",
       "         10035.10784698,  10032.64833014,   9973.6439217 ,   9926.360636  ,\n",
       "          9874.98717913,   9819.49349606,   9781.2393663 ,   9675.51416676,\n",
       "          9602.19847026,   9486.89009276]),\n",
       " array([[ 0.03843099,  0.06227068, -0.08919924, ...,  0.08774229,\n",
       "          0.21345495, -0.20842051],\n",
       "        [ 0.15868815,  0.02224439, -0.11658272, ...,  0.05562752,\n",
       "          0.03562697, -0.07027717],\n",
       "        [-0.00315263, -0.01840459, -0.01264607, ..., -0.07414948,\n",
       "          0.04504934,  0.08430367],\n",
       "        ...,\n",
       "        [-0.13501466,  0.03897048,  0.03213354, ...,  0.1039614 ,\n",
       "         -0.15829801, -0.01020227],\n",
       "        [ 0.07297804, -0.04683909,  0.02777457, ..., -0.03686749,\n",
       "         -0.0552981 , -0.002447  ],\n",
       "        [-0.02836366, -0.10564403, -0.03323275, ..., -0.00181761,\n",
       "         -0.02396744,  0.09197267]]))"
      ]
     },
     "execution_count": 18,
     "metadata": {},
     "output_type": "execute_result"
    }
   ],
   "source": [
    "res"
   ]
  },
  {
   "cell_type": "code",
   "execution_count": null,
   "metadata": {},
   "outputs": [],
   "source": []
  },
  {
   "cell_type": "code",
   "execution_count": null,
   "metadata": {},
   "outputs": [],
   "source": []
  },
  {
   "cell_type": "code",
   "execution_count": null,
   "metadata": {},
   "outputs": [],
   "source": []
  },
  {
   "cell_type": "code",
   "execution_count": null,
   "metadata": {},
   "outputs": [],
   "source": []
  },
  {
   "cell_type": "code",
   "execution_count": null,
   "metadata": {},
   "outputs": [],
   "source": []
  },
  {
   "cell_type": "code",
   "execution_count": null,
   "metadata": {},
   "outputs": [],
   "source": []
  },
  {
   "cell_type": "code",
   "execution_count": null,
   "metadata": {},
   "outputs": [],
   "source": []
  },
  {
   "cell_type": "code",
   "execution_count": null,
   "metadata": {},
   "outputs": [],
   "source": []
  },
  {
   "cell_type": "code",
   "execution_count": null,
   "metadata": {},
   "outputs": [],
   "source": []
  }
 ],
 "metadata": {
  "kernelspec": {
   "display_name": "Python 3",
   "language": "python",
   "name": "python3"
  },
  "language_info": {
   "codemirror_mode": {
    "name": "ipython",
    "version": 3
   },
   "file_extension": ".py",
   "mimetype": "text/x-python",
   "name": "python",
   "nbconvert_exporter": "python",
   "pygments_lexer": "ipython3",
   "version": "3.8.5"
  }
 },
 "nbformat": 4,
 "nbformat_minor": 4
}
